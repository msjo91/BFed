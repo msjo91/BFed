{
 "cells": [
  {
   "cell_type": "code",
   "execution_count": null,
   "metadata": {},
   "outputs": [],
   "source": [
    "%matplotlib inline\n",
    "\n",
    "import os\n",
    "import numpy as np\n",
    "import pandas as pd\n",
    "import matplotlib.pyplot as plt"
   ]
  },
  {
   "cell_type": "code",
   "execution_count": null,
   "metadata": {},
   "outputs": [],
   "source": [
    "SEEDS = [0, 1, 42, 2 ** 8, 2 ** 16]\n",
    "SEED = SEEDS[2]    # Default 42\n",
    "\n",
    "DATASETS = ['cifar10', 'mnist', 'fmnist']\n",
    "DATASET = DATASETS[0]    # Default cifar10\n",
    "\n",
    "PSET = [16, 20, 24, 28, 32, 36, 40, 44, 48, 52, 56]\n",
    "NUM_PARTIES = PSET[0]    # 0(16) ~ 11(56) # Default 16\n",
    "\n",
    "BOOST_FRACS = [0.0, 0.1, 0.2, 0.3, 0.4, 0.5, 0.6, 0.7, 0.8, 0.9, 1.0]\n",
    "BOOST_FRAC = BOOST_FRACS[0]    # Default 0.3\n",
    "\n",
    "BATCH_SIZES = [64, 128, 256, 512, 1024]\n",
    "BATCH_SIZE = BATCH_SIZES[0]    # Default 64\n",
    "\n",
    "ROUNDSET = [30, 50, 100]\n",
    "ROUNDS = ROUNDSET[1]    # Default 50\n",
    "\n",
    "EPOCHSET = [10, 20, 30, 40, 50]\n",
    "EPOCHS = EPOCHSET[1]    # Default 20\n",
    "\n",
    "MODELS = ['MNISTLeNet5', 'LeNet5', 'VGG9', 'ResNet18', 'MobileNetV2', 'DenseNet', 'EfficientNet']\n",
    "MODEL = MODELS[3]    # Default VGG9\n",
    "\n",
    "IFD = ['FSTR', 'FRND']\n",
    "forget_dist = IFD[0]\n",
    "\n",
    "STRATIFY = ['LSTR', 'LRND']\n",
    "target_dist = STRATIFY[0]\n",
    "\n",
    "FNAME = f'P{NUM_PARTIES}_{MODEL}_BT{int(BOOST_FRAC * 10)}_BS{BATCH_SIZE}_R{ROUNDS}_E{EPOCHS}_{forget_dist}_{target_dist}_S{SEED}'\n",
    "\n",
    "print('\\nFile name: ', FNAME)"
   ]
  },
  {
   "cell_type": "code",
   "execution_count": null,
   "metadata": {},
   "outputs": [],
   "source": [
    "PATH_ROOT = os.path.dirname(os.getcwd())\n",
    "PATH_SAVE = os.path.join(PATH_ROOT, 'saves')\n",
    "SAVE_DSET = os.path.join(PATH_SAVE, DATASET)\n",
    "filename = os.path.join(SAVE_DSET, FNAME)\n",
    "\n",
    "print('Root: ', PATH_ROOT)\n",
    "print('Saved results: ', PATH_SAVE)\n",
    "print('Saved results by dataset: ', SAVE_DSET)\n",
    "print('Search file: ', filename)"
   ]
  },
  {
   "cell_type": "code",
   "execution_count": null,
   "metadata": {},
   "outputs": [],
   "source": [
    "train_loss = np.load(f'{filename}_tr_ls.npy')\n",
    "test_loss = np.load(f'{filename}_te_ls.npy')\n",
    "test_acc = np.load(f'{filename}_te_acc.npy')\n",
    "\n",
    "print(train_loss.shape)\n",
    "print(test_loss.shape)\n",
    "print(test_acc.shape)"
   ]
  },
  {
   "cell_type": "code",
   "execution_count": null,
   "metadata": {},
   "outputs": [],
   "source": [
    "pd.DataFrame(train_loss.mean(axis=1).reshape(-1, 16).mean(axis=1), columns=['Loss']).to_csv(f'{filename}_tr_ls.csv', index=False, encoding='utf-8')\n",
    "pd.DataFrame(test_loss, columns=['Loss']).to_csv(f'{filename}_te_ls.csv', index=False, encoding='utf-8')\n",
    "pd.DataFrame(test_acc, columns=['Accuracy']).to_csv(f'{filename}_te_acc.csv', index=False, encoding='utf-8')"
   ]
  },
  {
   "cell_type": "code",
   "execution_count": null,
   "metadata": {},
   "outputs": [],
   "source": [
    "train_loss.mean(axis=1).reshape(-1, 16).mean(axis=1).shape"
   ]
  },
  {
   "cell_type": "code",
   "execution_count": null,
   "metadata": {},
   "outputs": [],
   "source": [
    "fig, axs = plt.subplots(nrows=2, ncols=2, figsize=(16, 9))\n",
    "axs = axs.ravel()\n",
    "\n",
    "axs[0].plot(test_acc, c='red', label='Test Accuracy by Round')\n",
    "axs[0].set_xlabel('Round')\n",
    "axs[0].set_ylabel('Accuracy')\n",
    "axs[0].legend()\n",
    "axs[1].plot(test_loss, c='blue', label='Test Loss by Round')\n",
    "axs[1].set_xlabel('Round')\n",
    "axs[1].set_ylabel('Loss')\n",
    "axs[1].legend()\n",
    "axs[2].plot(np.mean(train_loss.T.reshape(-1, 16), axis=1), c='orange', label='Train Loss by Epoch')\n",
    "axs[2].set_xlabel('Epoch')\n",
    "axs[2].set_ylabel('Loss')\n",
    "axs[2].legend()\n",
    "axs[3].plot(train_loss.mean(axis=1).reshape(-1, 16).mean(axis=1), c='purple', label='Train Loss by Round')\n",
    "axs[3].set_xlabel('Round')\n",
    "axs[3].set_ylabel('Loss')\n",
    "axs[3].legend()\n",
    "plt.show()"
   ]
  },
  {
   "cell_type": "code",
   "execution_count": null,
   "metadata": {},
   "outputs": [],
   "source": []
  }
 ],
 "metadata": {
  "kernelspec": {
   "display_name": "Python 3",
   "language": "python",
   "name": "python3"
  },
  "language_info": {
   "codemirror_mode": {
    "name": "ipython",
    "version": 3
   },
   "file_extension": ".py",
   "mimetype": "text/x-python",
   "name": "python",
   "nbconvert_exporter": "python",
   "pygments_lexer": "ipython3",
   "version": "3.7.8"
  }
 },
 "nbformat": 4,
 "nbformat_minor": 4
}
