{
 "cells": [
  {
   "cell_type": "code",
   "execution_count": null,
   "metadata": {},
   "outputs": [],
   "source": [
    "import os"
   ]
  },
  {
   "cell_type": "code",
   "execution_count": null,
   "metadata": {},
   "outputs": [],
   "source": [
    "PATH_ROOT = os.path.dirname(os.getcwd())\n",
    "PATH_DATA = os.path.join(PATH_ROOT, 'data')\n",
    "print('Root directory: ', PATH_ROOT)\n",
    "print('Data directory: ', PATH_DATA)"
   ]
  },
  {
   "cell_type": "code",
   "execution_count": null,
   "metadata": {},
   "outputs": [],
   "source": [
    "# DATASETS = ['cifar10', 'mnist', 'permuted_mnist', 'fmnist']\n",
    "DATASETS = ['cifar10', 'mnist', 'fmnist']\n",
    "\n",
    "ds = DATASETS[0]\n",
    "ds_path = os.path.join(PATH_DATA, ds)\n",
    "\n",
    "for root, dirs, files in sorted(os.walk(ds_path)):\n",
    "    level = root.replace(ds_path, '').count(os.sep)\n",
    "    if level == 0:\n",
    "        print('| {} |'.format(os.path.basename(root).upper()))\n",
    "    elif level == 1:\n",
    "        indent = '-' * 2 * level\n",
    "        print('|{} {}'.format(indent, os.path.basename(root)))\n",
    "    elif level == 2:\n",
    "        dirname = os.path.basename(root)\n",
    "    elif len(files) > 0:\n",
    "        indent = '-' * 2 * (level - 1)\n",
    "        print('|{} {:<20}{}'.format(indent, os.path.join(dirname, os.path.basename(root)), len(files)))\n",
    "print()"
   ]
  },
  {
   "cell_type": "code",
   "execution_count": null,
   "metadata": {},
   "outputs": [],
   "source": [
    "ds = DATASETS[1]\n",
    "ds_path = os.path.join(PATH_DATA, ds)\n",
    "\n",
    "for root, dirs, files in sorted(os.walk(ds_path)):\n",
    "    level = root.replace(ds_path, '').count(os.sep)\n",
    "    if level == 0:\n",
    "        print('| {} |'.format(os.path.basename(root).upper()))\n",
    "    elif level == 1:\n",
    "        indent = '-' * 2 * level\n",
    "        print('|{} {}'.format(indent, os.path.basename(root)))\n",
    "    elif level == 2:\n",
    "        dirname = os.path.basename(root)\n",
    "    elif len(files) > 0:\n",
    "        indent = '-' * 2 * (level - 1)\n",
    "        print('|{} {:<20}{}'.format(indent, os.path.join(dirname, os.path.basename(root)), len(files)))\n",
    "print()"
   ]
  },
  {
   "cell_type": "code",
   "execution_count": null,
   "metadata": {},
   "outputs": [],
   "source": [
    "ds = DATASETS[2]\n",
    "ds_path = os.path.join(PATH_DATA, ds)\n",
    "\n",
    "for root, dirs, files in sorted(os.walk(ds_path)):\n",
    "    level = root.replace(ds_path, '').count(os.sep)\n",
    "    if level == 0:\n",
    "        print('| {} |'.format(os.path.basename(root).upper()))\n",
    "    elif level == 1:\n",
    "        indent = '-' * 2 * level\n",
    "        print('|{} {}'.format(indent, os.path.basename(root)))\n",
    "    elif level == 2:\n",
    "        dirname = os.path.basename(root)\n",
    "    elif len(files) > 0:\n",
    "        indent = '-' * 2 * (level - 1)\n",
    "        print('|{} {:<20}{}'.format(indent, os.path.join(dirname, os.path.basename(root)), len(files)))\n",
    "print()"
   ]
  },
  {
   "cell_type": "code",
   "execution_count": null,
   "metadata": {},
   "outputs": [],
   "source": []
  }
 ],
 "metadata": {
  "kernelspec": {
   "display_name": "Python 3",
   "language": "python",
   "name": "python3"
  },
  "language_info": {
   "codemirror_mode": {
    "name": "ipython",
    "version": 3
   },
   "file_extension": ".py",
   "mimetype": "text/x-python",
   "name": "python",
   "nbconvert_exporter": "python",
   "pygments_lexer": "ipython3",
   "version": "3.7.8"
  }
 },
 "nbformat": 4,
 "nbformat_minor": 4
}
